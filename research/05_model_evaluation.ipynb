{
 "cells": [
  {
   "cell_type": "code",
   "execution_count": 1,
   "metadata": {},
   "outputs": [],
   "source": [
    "import os"
   ]
  },
  {
   "cell_type": "code",
   "execution_count": 2,
   "metadata": {},
   "outputs": [
    {
     "data": {
      "text/plain": [
       "'c:\\\\Users\\\\unoto\\\\Documents\\\\my_project\\\\data_science\\\\Breast-Cancer-Prediction-MLOps\\\\research'"
      ]
     },
     "execution_count": 2,
     "metadata": {},
     "output_type": "execute_result"
    }
   ],
   "source": [
    "%pwd"
   ]
  },
  {
   "cell_type": "code",
   "execution_count": 3,
   "metadata": {},
   "outputs": [],
   "source": [
    "os.chdir(\"../\")"
   ]
  },
  {
   "cell_type": "code",
   "execution_count": 4,
   "metadata": {},
   "outputs": [
    {
     "data": {
      "text/plain": [
       "'c:\\\\Users\\\\unoto\\\\Documents\\\\my_project\\\\data_science\\\\Breast-Cancer-Prediction-MLOps'"
      ]
     },
     "execution_count": 4,
     "metadata": {},
     "output_type": "execute_result"
    }
   ],
   "source": [
    "%pwd"
   ]
  },
  {
   "cell_type": "code",
   "execution_count": 5,
   "metadata": {},
   "outputs": [],
   "source": [
    "import yaml\n",
    "\n",
    "with open('secret.yaml', 'r') as file:\n",
    "    secret = yaml.safe_load(file)\n",
    "\n",
    "mlflow_credentials = secret.get('mlflow_credentials', {})\n",
    "username = mlflow_credentials.get('username', '')\n",
    "password = mlflow_credentials.get('password', '')"
   ]
  },
  {
   "cell_type": "code",
   "execution_count": 6,
   "metadata": {},
   "outputs": [],
   "source": [
    "os.environ[\"MLFLOW_TRACKING_URI\"] = \"https://dagshub.com/Juwono136/Breast-Cancer-Prediction-MLOps.mlflow\"\n",
    "os.environ[\"MLFLOW_TRACKING_USERNAME\"] = username\n",
    "os.environ[\"MLFLOW_TRACKING_PASSWORD\"] = password"
   ]
  },
  {
   "cell_type": "code",
   "execution_count": 7,
   "metadata": {},
   "outputs": [],
   "source": [
    "from dataclasses import dataclass\n",
    "from pathlib import Path\n",
    "\n",
    "@dataclass(frozen=True)\n",
    "class ModelEvaluationConfig:\n",
    "    root_dir: Path\n",
    "    data_path: Path\n",
    "    model_path: Path\n",
    "    scaler_path: Path\n",
    "    metric_path: dict\n",
    "    all_params: dict\n",
    "    target_column: str\n",
    "    mlflow_uri: str"
   ]
  },
  {
   "cell_type": "code",
   "execution_count": 8,
   "metadata": {},
   "outputs": [],
   "source": [
    "from breastCancer.constants import *\n",
    "from breastCancer.utils.common import read_yaml, create_directories, save_json"
   ]
  },
  {
   "cell_type": "code",
   "execution_count": 9,
   "metadata": {},
   "outputs": [],
   "source": [
    "class ConfigurationManager:\n",
    "    def __init__(\n",
    "        self,\n",
    "        config_filepath = CONFIG_FILE_PATH,\n",
    "        params_filepath = PARAMS_FILE_PATH,\n",
    "        schema_filepath = SCHEMA_FILE_PATH):\n",
    "\n",
    "        self.config = read_yaml(config_filepath)\n",
    "        self.params = read_yaml(params_filepath)\n",
    "        self.schema = read_yaml(schema_filepath)\n",
    "\n",
    "        create_directories([self.config.artifacts_root])\n",
    "    \n",
    "    def get_model_evaluation_config(self) -> ModelEvaluationConfig:\n",
    "        config = self.config.model_evaluation\n",
    "        params = self.params.LogisticRegression\n",
    "        schema = self.schema.TARGET_COLUMN\n",
    "\n",
    "        create_directories([config.root_dir])\n",
    "\n",
    "        model_evaluation_config = ModelEvaluationConfig(\n",
    "            root_dir=config.root_dir,\n",
    "            data_path=config.data_path,\n",
    "            model_path=config.model_path,\n",
    "            scaler_path=config.scaler_path,\n",
    "            metric_path=config.metric_path,\n",
    "            all_params=params,\n",
    "            target_column=schema.name,\n",
    "            mlflow_uri=\"https://dagshub.com/Juwono136/Breast-Cancer-Prediction-MLOps.mlflow\"\n",
    "        )\n",
    "\n",
    "        return model_evaluation_config"
   ]
  },
  {
   "cell_type": "code",
   "execution_count": 10,
   "metadata": {},
   "outputs": [],
   "source": [
    "import os\n",
    "import json\n",
    "import pickle\n",
    "import mlflow\n",
    "import mlflow.sklearn\n",
    "import pandas as pd\n",
    "from urllib.parse import urlparse\n",
    "from sklearn.model_selection import train_test_split\n",
    "from sklearn.metrics import classification_report"
   ]
  },
  {
   "cell_type": "code",
   "execution_count": 11,
   "metadata": {},
   "outputs": [],
   "source": [
    "class ModelEvaluation:\n",
    "    def __init__(self, config: ModelEvaluationConfig):\n",
    "        self.config = config\n",
    "    \n",
    "    def log_into_mlflow(self):\n",
    "        with open(self.config.model_path, 'rb') as f:\n",
    "            model = pickle.load(f)\n",
    "        \n",
    "        with open(self.config.scaler_path, 'rb') as f:\n",
    "            scaler = pickle.load(f)\n",
    "        \n",
    "        data = pd.read_csv(self.config.data_path)\n",
    "        X = data.drop([self.config.target_column], axis=1)\n",
    "        y = data[self.config.target_column]\n",
    "\n",
    "        X = scaler.fit_transform(X)\n",
    "\n",
    "        X_train, X_test, y_train, y_test = train_test_split(X, y, test_size=0.2, random_state=42)\n",
    "        \n",
    "        mlflow.set_registry_uri(self.config.mlflow_uri)\n",
    "        tracking_url_type_store = urlparse(mlflow.get_tracking_uri()).scheme\n",
    "\n",
    "        with mlflow.start_run():\n",
    "            y_pred = model.predict(X_test)\n",
    "\n",
    "            metrics_report = classification_report(y_test, y_pred, output_dict=True)\n",
    "            save_json(path=Path(self.config.metric_path), data=metrics_report)\n",
    "\n",
    "            mlflow.log_params(self.config.all_params)\n",
    "\n",
    "            with open(Path(self.config.metric_path)) as f:\n",
    "                metrics_report = json.load(f)\n",
    "                for key, value in metrics_report.items():\n",
    "                    if isinstance(value, dict):\n",
    "                        for metric_name, metric_value in value.items():\n",
    "                            metric_key = f\"{key}_{metric_name}\"\n",
    "                            mlflow.log_metric(metric_key, metric_value)\n",
    "                    else:\n",
    "                        mlflow.log_metric(key, value)\n",
    "\n",
    "            if tracking_url_type_store != 'file':\n",
    "                mlflow.sklearn.log_model(model, \"model\", registered_model_name=\"LogisticRegressionModel\")\n",
    "            else:\n",
    "                mlflow.sklearn.log_model(model, \"model\")"
   ]
  },
  {
   "cell_type": "code",
   "execution_count": 12,
   "metadata": {},
   "outputs": [
    {
     "name": "stdout",
     "output_type": "stream",
     "text": [
      "[2024-03-03 22:55:48,402: INFO: common: yaml file: config\\config.yaml loaded successfully]\n",
      "[2024-03-03 22:55:48,415: INFO: common: yaml file: params.yaml loaded successfully]\n",
      "[2024-03-03 22:55:48,422: INFO: common: yaml file: schema.yaml loaded successfully]\n",
      "[2024-03-03 22:55:48,422: INFO: common: created directory at: artifacts]\n",
      "[2024-03-03 22:55:48,422: INFO: common: created directory at: artifacts/model_evaluation]\n",
      "[2024-03-03 22:55:50,113: INFO: common: json file saved at: artifacts\\model_evaluation\\metrics.json]\n"
     ]
    },
    {
     "name": "stderr",
     "output_type": "stream",
     "text": [
      "c:\\Users\\unoto\\anaconda3\\envs\\breast-cancer-mlops\\lib\\site-packages\\_distutils_hack\\__init__.py:33: UserWarning: Setuptools is replacing distutils.\n",
      "  warnings.warn(\"Setuptools is replacing distutils.\")\n",
      "Registered model 'LogisticRegressionModel' already exists. Creating a new version of this model...\n",
      "2024/03/03 22:56:06 INFO mlflow.tracking._model_registry.client: Waiting up to 300 seconds for model version to finish creation.                     Model name: LogisticRegressionModel, version 8\n",
      "Created version '8' of model 'LogisticRegressionModel'.\n"
     ]
    }
   ],
   "source": [
    "try:\n",
    "    config = ConfigurationManager()\n",
    "    model_evaluation_config = config.get_model_evaluation_config()\n",
    "    model_evaluation = ModelEvaluation(config=model_evaluation_config)\n",
    "    model_evaluation.log_into_mlflow()\n",
    "except Exception as e:\n",
    "    raise e"
   ]
  },
  {
   "cell_type": "code",
   "execution_count": null,
   "metadata": {},
   "outputs": [],
   "source": []
  }
 ],
 "metadata": {
  "kernelspec": {
   "display_name": "breast-cancer-mlops",
   "language": "python",
   "name": "python3"
  },
  "language_info": {
   "codemirror_mode": {
    "name": "ipython",
    "version": 3
   },
   "file_extension": ".py",
   "mimetype": "text/x-python",
   "name": "python",
   "nbconvert_exporter": "python",
   "pygments_lexer": "ipython3",
   "version": "3.8.18"
  }
 },
 "nbformat": 4,
 "nbformat_minor": 2
}
